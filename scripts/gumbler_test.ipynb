{
 "cells": [
  {
   "cell_type": "code",
   "execution_count": 1,
   "metadata": {},
   "outputs": [],
   "source": [
    "import math\n",
    "import numpy as np\n",
    "import matplotlib.pyplot as plt\n",
    "import numba as nb"
   ]
  },
  {
   "cell_type": "code",
   "execution_count": 2,
   "metadata": {},
   "outputs": [],
   "source": [
    "#placed here to avoid circular imports\n",
    "def gumbel_pdf(x,mu,sigma):\n",
    "    beta = sigma*(np.sqrt(6)/np.pi)\n",
    "    z=(x-mu)/beta\n",
    "    return (1/beta)*np.exp(-(z+np.exp(-1*z)))\n",
    "\n",
    "def downsample(x, N):\n",
    "        return np.append(x,np.zeros(len(x)%N)*np.nan).reshape(-1,N).mean(axis=1)"
   ]
  },
  {
   "cell_type": "code",
   "execution_count": 3,
   "metadata": {},
   "outputs": [
    {
     "data": {
      "text/plain": [
       "[<matplotlib.lines.Line2D at 0x7f81d13c6fc0>]"
      ]
     },
     "execution_count": 3,
     "metadata": {},
     "output_type": "execute_result"
    },
    {
     "data": {
      "image/png": "[encoded data removed]",
      "text/plain": [
       "<Figure size 640x480 with 1 Axes>"
      ]
     },
     "metadata": {},
     "output_type": "display_data"
    }
   ],
   "source": [
    "# 5 Ghz sampling\n",
    "x = np.arange(0,150,0.2)\n",
    "y = gumbel_pdf(x,75,2)\n",
    "\n",
    "# means we have to reduce by a factor of 20 to reach P-One sampling rate\n",
    "N=25\n",
    "xd = downsample(x,N)\n",
    "yd = downsample(y,N)\n",
    "plt.plot(x,y)\n",
    "plt.plot(xd,yd)"
   ]
  },
  {
   "cell_type": "code",
   "execution_count": 4,
   "metadata": {},
   "outputs": [],
   "source": [
    "A = np.zeros((len(xd),len(x)))\n",
    "for i in range(len(x)):\n",
    "    A[:,i] = downsample(gumbel_pdf(x,x[i],2),N) \n"
   ]
  },
  {
   "cell_type": "code",
   "execution_count": 5,
   "metadata": {},
   "outputs": [],
   "source": [
    "#@nb.jit(nopython=True, cache=False)  # cache=False only for performance comparison\n",
    "def numba_ix(arr, rows, cols):\n",
    "    \"\"\"\n",
    "    Numba compatible implementation of arr[np.ix_(rows, cols)] for 2D arrays.\n",
    "    :param arr: 2D array to be indexed\n",
    "    :param rows: Row indices\n",
    "    :param cols: Column indices\n",
    "    :return: 2D array with the given rows and columns of the input array\n",
    "    \"\"\"\n",
    "    one_d_index = np.zeros(len(rows) * len(cols), dtype=np.int32)\n",
    "    for i, r in enumerate(rows):\n",
    "        start = i * len(cols)\n",
    "        one_d_index[start: start + len(cols)] = cols + arr.shape[1] * r\n",
    "\n",
    "    arr_1d = arr.reshape((arr.shape[0] * arr.shape[1], 1))\n",
    "    slice_1d = np.take(arr_1d, one_d_index)\n",
    "    return slice_1d.reshape((len(rows), len(cols)))\n",
    "\n",
    "def nnls(A, b, maxiter=None, tol=None):\n",
    "    \"\"\"\n",
    "    based on scipy implementation. Which in turn is based on\n",
    "    the algorithm given in  :doi:`10.1002/cem.889`\n",
    "    \"\"\"\n",
    "    m, n = A.shape\n",
    "\n",
    "    AtA = np.transpose(A) @ A\n",
    "    Atb = b @ A  # Result is 1D - let NumPy figure it out\n",
    "\n",
    "    if not maxiter:\n",
    "        maxiter = 3*n\n",
    "    if tol is None:\n",
    "        tol = 10 * max(m, n) * np.spacing(1.)\n",
    "\n",
    "    # Initialize vars\n",
    "    x = np.zeros(n, dtype=np.float64)\n",
    "    s = np.zeros(n, dtype=np.float64)\n",
    "    # Inactive constraint switches\n",
    "    P = np.zeros(n, dtype=bool)\n",
    "\n",
    "    # Projected residual\n",
    "    w = Atb.copy().astype(np.float64)  # x=0. Skip (-AtA @ x) term\n",
    "\n",
    "    # Overall iteration counter\n",
    "    # Outer loop is not counted, inner iter is counted across outer spins\n",
    "    iter = 0\n",
    "\n",
    "    while (not P.all()) and (w[~P] > tol).any():  # B\n",
    "        # Get the \"most\" active coeff index and move to inactive set\n",
    "        k = np.argmax(w * (~P))  # B.2\n",
    "        P[k] = True  # B.3\n",
    "\n",
    "        # Iteration solution\n",
    "        s[:] = 0.\n",
    "        # B.4\n",
    "        tmp = numba_ix(AtA,P,P)\n",
    "        s[P] = np.linalg.solve(tmp, Atb[P])\n",
    "\n",
    "        # Inner loop\n",
    "        while (iter < maxiter) and (s[P].min() <= 0):  # C.1\n",
    "            iter += 1\n",
    "            inds = P * (s <= 0)\n",
    "            alpha = (x[inds] / (x[inds] - s[inds])).min()  # C.2\n",
    "            x *= (1 - alpha)\n",
    "            x += alpha*s\n",
    "            P[x <= tol] = False\n",
    "            s[P] = np.linalg.solve(AtA[np.ix_(P, P)], Atb[P])\n",
    "            s[~P] = 0  # C.6\n",
    "\n",
    "        x[:] = s[:]\n",
    "        w[:] = Atb - AtA @ x\n",
    "\n",
    "        if iter == maxiter:\n",
    "            return x\n",
    "\n",
    "    return x"
   ]
  },
  {
   "cell_type": "code",
   "execution_count": 9,
   "metadata": {},
   "outputs": [
    {
     "ename": "ValueError",
     "evalue": "solve1: Input operand 1 has a mismatch in its core dimension 0, with gufunc signature (m,m),(m)->(m) (size 1 is different from 750)",
     "output_type": "error",
     "traceback": [
      "\u001b[0;31m---------------------------------------------------------------------------\u001b[0m",
      "\u001b[0;31mValueError\u001b[0m                                Traceback (most recent call last)",
      "Cell \u001b[0;32mIn[9], line 1\u001b[0m\n\u001b[0;32m----> 1\u001b[0m res \u001b[38;5;241m=\u001b[39m \u001b[43mnnls\u001b[49m\u001b[43m(\u001b[49m\u001b[43mA\u001b[49m\u001b[43m,\u001b[49m\u001b[43myd\u001b[49m\u001b[43m,\u001b[49m\u001b[38;5;241;43m1000\u001b[39;49m\u001b[43m)\u001b[49m\n",
      "Cell \u001b[0;32mIn[5], line 56\u001b[0m, in \u001b[0;36mnnls\u001b[0;34m(A, b, maxiter, tol)\u001b[0m\n\u001b[1;32m     54\u001b[0m \u001b[38;5;66;03m# B.4\u001b[39;00m\n\u001b[1;32m     55\u001b[0m tmp \u001b[38;5;241m=\u001b[39m numba_ix(AtA,P,P)\n\u001b[0;32m---> 56\u001b[0m s[P] \u001b[38;5;241m=\u001b[39m \u001b[43mnp\u001b[49m\u001b[38;5;241;43m.\u001b[39;49m\u001b[43mlinalg\u001b[49m\u001b[38;5;241;43m.\u001b[39;49m\u001b[43msolve\u001b[49m\u001b[43m(\u001b[49m\u001b[43mtmp\u001b[49m\u001b[43m,\u001b[49m\u001b[43m \u001b[49m\u001b[43mAtb\u001b[49m\u001b[43m[\u001b[49m\u001b[43mP\u001b[49m\u001b[43m]\u001b[49m\u001b[43m)\u001b[49m\n\u001b[1;32m     58\u001b[0m \u001b[38;5;66;03m# Inner loop\u001b[39;00m\n\u001b[1;32m     59\u001b[0m \u001b[38;5;28;01mwhile\u001b[39;00m (\u001b[38;5;28miter\u001b[39m \u001b[38;5;241m<\u001b[39m maxiter) \u001b[38;5;129;01mand\u001b[39;00m (s[P]\u001b[38;5;241m.\u001b[39mmin() \u001b[38;5;241m<\u001b[39m\u001b[38;5;241m=\u001b[39m \u001b[38;5;241m0\u001b[39m):  \u001b[38;5;66;03m# C.1\u001b[39;00m\n",
      "File \u001b[0;32m/mnt/c/Users/pkrau/OneDrive/Dokumente/GitHub/mint-analysis/.venv/lib/python3.12/site-packages/numpy/linalg/linalg.py:409\u001b[0m, in \u001b[0;36msolve\u001b[0;34m(a, b)\u001b[0m\n\u001b[1;32m    407\u001b[0m signature \u001b[38;5;241m=\u001b[39m \u001b[38;5;124m'\u001b[39m\u001b[38;5;124mDD->D\u001b[39m\u001b[38;5;124m'\u001b[39m \u001b[38;5;28;01mif\u001b[39;00m isComplexType(t) \u001b[38;5;28;01melse\u001b[39;00m \u001b[38;5;124m'\u001b[39m\u001b[38;5;124mdd->d\u001b[39m\u001b[38;5;124m'\u001b[39m\n\u001b[1;32m    408\u001b[0m extobj \u001b[38;5;241m=\u001b[39m get_linalg_error_extobj(_raise_linalgerror_singular)\n\u001b[0;32m--> 409\u001b[0m r \u001b[38;5;241m=\u001b[39m \u001b[43mgufunc\u001b[49m\u001b[43m(\u001b[49m\u001b[43ma\u001b[49m\u001b[43m,\u001b[49m\u001b[43m \u001b[49m\u001b[43mb\u001b[49m\u001b[43m,\u001b[49m\u001b[43m \u001b[49m\u001b[43msignature\u001b[49m\u001b[38;5;241;43m=\u001b[39;49m\u001b[43msignature\u001b[49m\u001b[43m,\u001b[49m\u001b[43m \u001b[49m\u001b[43mextobj\u001b[49m\u001b[38;5;241;43m=\u001b[39;49m\u001b[43mextobj\u001b[49m\u001b[43m)\u001b[49m\n\u001b[1;32m    411\u001b[0m \u001b[38;5;28;01mreturn\u001b[39;00m wrap(r\u001b[38;5;241m.\u001b[39mastype(result_t, copy\u001b[38;5;241m=\u001b[39m\u001b[38;5;28;01mFalse\u001b[39;00m))\n",
      "\u001b[0;31mValueError\u001b[0m: solve1: Input operand 1 has a mismatch in its core dimension 0, with gufunc signature (m,m),(m)->(m) (size 1 is different from 750)"
     ]
    }
   ],
   "source": [
    "\n",
    "res = nnls(A,yd,1000)"
   ]
  },
  {
   "cell_type": "code",
   "execution_count": 199,
   "metadata": {},
   "outputs": [
    {
     "data": {
      "text/plain": [
       "[<matplotlib.lines.Line2D at 0x7fe35e10d490>]"
      ]
     },
     "execution_count": 199,
     "metadata": {},
     "output_type": "execute_result"
    },
    {
     "data": {
      "image/png": "[encoded data removed]",
      "text/plain": [
       "<Figure size 640x480 with 1 Axes>"
      ]
     },
     "metadata": {},
     "output_type": "display_data"
    }
   ],
   "source": [
    "plt.plot(x,res)"
   ]
  },
  {
   "cell_type": "code",
   "execution_count": null,
   "metadata": {},
   "outputs": [],
   "source": []
  }
 ],
 "metadata": {
  "kernelspec": {
   "display_name": ".venv",
   "language": "python",
   "name": "python3"
  },
  "language_info": {
   "codemirror_mode": {
    "name": "ipython",
    "version": 3
   },
   "file_extension": ".py",
   "mimetype": "text/x-python",
   "name": "python",
   "nbconvert_exporter": "python",
   "pygments_lexer": "ipython3",
   "version": "3.12.3"
  }
 },
 "nbformat": 4,
 "nbformat_minor": 2
}
