{
 "cells": [
  {
   "attachments": {},
   "cell_type": "markdown",
   "metadata": {},
   "source": [
    "# Imports"
   ]
  },
  {
   "cell_type": "code",
   "execution_count": null,
   "metadata": {},
   "outputs": [],
   "source": [
    "import matplotlib.pyplot as plt\n",
    "import numpy as np"
   ]
  },
  {
   "attachments": {},
   "cell_type": "markdown",
   "metadata": {},
   "source": [
    "# Def"
   ]
  },
  {
   "cell_type": "code",
   "execution_count": null,
   "metadata": {},
   "outputs": [],
   "source": [
    "# Gumbel distribution (https://en.wikipedia.org/wiki/Gumbel_distribution)\n",
    "def gumbel_pdf(x, mu, sigma):\n",
    "    beta = sigma * (np.sqrt(6) / np.pi)\n",
    "    z = (x - mu) / beta\n",
    "    return (1 / beta) * np.exp(-(z + np.exp(-1 * z)))\n",
    "\n",
    "\n",
    "def gumbel_with_controlled_t0(\n",
    "    num_waveforms, waveform_length, loc, a, scale, noise_std=0.01, offset=0\n",
    "):\n",
    "    \"\"\"\n",
    "    Add a Gumbel peak to noise, controlling the start (t0) or location (loc) of the peak.\n",
    "    \"\"\"\n",
    "\n",
    "    # Define Gumbel pulse\n",
    "    def gumbel_pulse(x, a, loc, scale):\n",
    "        return a * np.exp(-(x - loc) / scale - np.exp(-(x - loc) / scale))\n",
    "\n",
    "    # Create waveforms\n",
    "    waveforms = np.zeros((num_waveforms, waveform_length))\n",
    "\n",
    "    for i in range(num_waveforms):\n",
    "        x = np.arange(waveform_length)\n",
    "\n",
    "        # Generate Gumbel pulse centered at loc\n",
    "        gumbel_peak = gumbel_pulse(x, a=a, loc=loc, scale=scale)\n",
    "\n",
    "        # Generate Gaussian noise\n",
    "        gaussian_noise = np.random.normal(0, noise_std, size=waveform_length)\n",
    "\n",
    "        # Add Gumbel peak to noise and normalize\n",
    "        waveforms[i] = gumbel_peak + gaussian_noise + offset\n",
    "        waveforms[i] /= np.sum(waveforms[i])  # Normalize individually\n",
    "\n",
    "    return waveforms\n",
    "\n",
    "\n",
    "# a simple function to downsample an array by factor N\n",
    "def downsample(x, N):\n",
    "    return np.append(x, np.zeros(len(x) % N) * np.nan).reshape(-1, N).mean(axis=1)\n",
    "\n",
    "\n",
    "# @nb.jit(nopython=True, cache=False)  # cache=False only for performance comparison\n",
    "def numba_ix(arr, rows, cols):\n",
    "    \"\"\"\n",
    "    Numba compatible implementation of arr[np.ix_(rows, cols)] for 2D arrays.\n",
    "    from https://github.com/numba/numba/issues/5894#issuecomment-974701551\n",
    "    :param arr: 2D array to be indexed\n",
    "    :param rows: Row indices\n",
    "    :param cols: Column indices\n",
    "    :return: 2D array with the given rows and columns of the input array\n",
    "    \"\"\"\n",
    "    one_d_index = np.zeros(len(rows) * len(cols), dtype=np.int32)\n",
    "    for i, r in enumerate(rows):\n",
    "        start = i * len(cols)\n",
    "        one_d_index[start : start + len(cols)] = cols + arr.shape[1] * r\n",
    "\n",
    "    arr_1d = arr.reshape((arr.shape[0] * arr.shape[1], 1))\n",
    "    slice_1d = np.take(arr_1d, one_d_index)\n",
    "    return slice_1d.reshape((len(rows), len(cols)))\n",
    "\n",
    "\n",
    "def nnls(A, b, maxiter=None, tol=None):\n",
    "    \"\"\"\n",
    "    based on scipy implementation. Which in turn is based on\n",
    "    the algorithm given in  :doi:`10.1002/cem.889`\n",
    "    \"\"\"\n",
    "    m, n = A.shape\n",
    "\n",
    "    AtA = np.transpose(A) @ A\n",
    "    Atb = b @ A  # Result is 1D - let NumPy figure it out\n",
    "\n",
    "    if not maxiter:\n",
    "        maxiter = 3 * n\n",
    "    if tol is None:\n",
    "        tol = 10 * max(m, n) * np.spacing(1.0)\n",
    "\n",
    "    # Initialize vars\n",
    "    x = np.zeros(n, dtype=np.float64)\n",
    "    s = np.zeros(n, dtype=np.float64)\n",
    "    # Inactive constraint switches\n",
    "    P = np.zeros(n, dtype=bool)\n",
    "    Pidx = np.arange(0, len(P), 1, dtype=int)\n",
    "\n",
    "    # Projected residual\n",
    "    w = Atb.copy().astype(np.float64)  # x=0. Skip (-AtA @ x) term\n",
    "\n",
    "    # Overall iteration counter\n",
    "    # Outer loop is not counted, inner iter is counted across outer spins\n",
    "    iter = 0\n",
    "\n",
    "    while (not P.all()) and (w[~P] > tol).any():  # B\n",
    "        # Get the \"most\" active coeff index and move to inactive set\n",
    "        k = np.argmax(w * (~P))  # B.2\n",
    "        P[k] = True  # B.3\n",
    "\n",
    "        # Iteration solution\n",
    "        s[:] = 0.0\n",
    "        # B.4\n",
    "        s[P] = np.linalg.solve(numba_ix(AtA, Pidx[P], Pidx[P]), Atb[P])\n",
    "\n",
    "        # Inner loop\n",
    "        while (iter < maxiter) and (s[P].min() <= 0):  # C.1\n",
    "            iter += 1\n",
    "            inds = P * (s <= 0)\n",
    "            alpha = (x[inds] / (x[inds] - s[inds])).min()  # C.2\n",
    "            x *= 1 - alpha\n",
    "            x += alpha * s\n",
    "            P[x <= tol] = False\n",
    "            s[P] = np.linalg.solve(numba_ix(AtA, Pidx[P], Pidx[P]), Atb[P])\n",
    "            s[~P] = 0  # C.6\n",
    "\n",
    "        x[:] = s[:]\n",
    "        w[:] = Atb - AtA @ x\n",
    "\n",
    "        if iter == maxiter:\n",
    "            return x\n",
    "\n",
    "    return x"
   ]
  },
  {
   "attachments": {},
   "cell_type": "markdown",
   "metadata": {},
   "source": [
    "# Simulate pulse with noise"
   ]
  },
  {
   "attachments": {},
   "cell_type": "markdown",
   "metadata": {},
   "source": [
    "Add gaussian noise to a Gumbel dist"
   ]
  },
  {
   "cell_type": "code",
   "execution_count": null,
   "metadata": {},
   "outputs": [],
   "source": [
    "# Parameters\n",
    "num_waveforms = 1\n",
    "waveform_length = 150\n",
    "loc = 70  # Start of Gumbel peak\n",
    "a = 10.0  # Amplitude of Gumbel peak\n",
    "scale = 2  # Scale of Gumbel peak\n",
    "noise_std = 0.5\n",
    "offset = 0\n",
    "\n",
    "# Generate waveforms\n",
    "waveforms = gumbel_with_controlled_t0(\n",
    "    num_waveforms, waveform_length, loc, a, scale, noise_std, offset\n",
    ")\n",
    "\n",
    "# Plot the first waveform\n",
    "plt.plot(waveforms[0])\n",
    "plt.title(\"Gumbel Peak with Controlled Start (t0)\")\n",
    "plt.show()"
   ]
  },
  {
   "cell_type": "code",
   "execution_count": null,
   "metadata": {},
   "outputs": [],
   "source": [
    "x = np.arange(0, 150, 1)\n",
    "y = waveforms[0]"
   ]
  },
  {
   "cell_type": "code",
   "execution_count": null,
   "metadata": {},
   "outputs": [],
   "source": [
    "# generate matrix\n",
    "A = np.zeros((len(x), len(x)))\n",
    "for i in range(len(x)):\n",
    "    A[:, i] = gumbel_pdf(x, x[i], 2)"
   ]
  },
  {
   "cell_type": "markdown",
   "metadata": {},
   "source": [
    "## 1 p.e. pulse"
   ]
  },
  {
   "cell_type": "code",
   "execution_count": null,
   "metadata": {},
   "outputs": [],
   "source": [
    "res = nnls(A, y, 1000)\n",
    "zres = np.zeros(len(x))\n",
    "for i in range(len(zres)):\n",
    "    zres += res[i] * gumbel_pdf(x, x[i], 2)\n",
    "\n",
    "plt.plot(x, y, label=\"simulated trace\", color=\"blue\", alpha=0.7)\n",
    "plt.plot(x, zres, label=\"reconstruction\", ls=\"--\", color=\"r\")\n",
    "plt.xlim(0, 140)\n",
    "plt.legend()"
   ]
  },
  {
   "attachments": {},
   "cell_type": "markdown",
   "metadata": {},
   "source": [
    "# Check difference between reco vs real t0"
   ]
  },
  {
   "cell_type": "code",
   "execution_count": null,
   "metadata": {},
   "outputs": [],
   "source": [
    "baseline = 0.005\n",
    "shifted_res = zres - baseline\n",
    "multiply = shifted_res * np.roll(shifted_res, 1)\n",
    "\n",
    "sign = np.sign(multiply)\n",
    "sign[0] = 1\n",
    "integrals = {}\n",
    "peak = False\n",
    "current_integral = 0\n",
    "current_integral_start = 0\n",
    "\n",
    "for i, s in enumerate(sign):\n",
    "    if s < 0:\n",
    "        if not peak:\n",
    "            current_integral = 0\n",
    "            current_integral_start = x[i]\n",
    "        if peak:\n",
    "            integrals[(current_integral_start, x[i])] = current_integral\n",
    "        peak = not peak\n",
    "\n",
    "    if peak:\n",
    "        current_integral += zres[i] * (x[1] - x[0])"
   ]
  },
  {
   "cell_type": "code",
   "execution_count": null,
   "metadata": {},
   "outputs": [],
   "source": [
    "for key, b in integrals.items():\n",
    "    plt.fill_betweenx(\n",
    "        [0, np.max(zres)], [key[0], key[0]], [key[1], key[1]], alpha=0.2, color=\"cyan\"\n",
    "    )\n",
    "    plt.axvline(key[0], linestyle=\"--\", color=\"midnightblue\")\n",
    "plt.plot([], [], linestyle=\"--\", color=\"midnightblue\", label=\"t0\")\n",
    "plt.plot(x, zres, label=\"reconstruction\", color=\"r\")\n",
    "plt.plot(x, y, label=\"simulated trace\", color=\"blue\")\n",
    "plt.xlim(0, 140)\n",
    "plt.xlabel(\"ns\")\n",
    "plt.legend()"
   ]
  },
  {
   "cell_type": "code",
   "execution_count": null,
   "metadata": {},
   "outputs": [],
   "source": [
    "# Find the key with the maximum value\n",
    "max_key = max(integrals, key=integrals.get)\n",
    "max_value = integrals[max_key]\n",
    "\n",
    "print(f\"The maximum value is: {max_value} and its t0 is: {max_key[0]}\")\n",
    "print(f\"Real t0 is: {loc}\")"
   ]
  }
 ],
 "metadata": {
  "vscode": {
   "interpreter": {
    "hash": "71f7d0aacd76a305332afefd7492fd2b01c86aa0bcbcc2aaeff4f4028bdba73c"
   }
  }
 },
 "nbformat": 4,
 "nbformat_minor": 2
}
