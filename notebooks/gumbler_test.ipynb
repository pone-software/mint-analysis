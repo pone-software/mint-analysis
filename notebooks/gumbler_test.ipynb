{
 "cells": [
  {
   "cell_type": "code",
   "execution_count": null,
   "metadata": {},
   "outputs": [],
   "source": [
    "import matplotlib.pyplot as plt\n",
    "import numpy as np"
   ]
  },
  {
   "cell_type": "markdown",
   "metadata": {},
   "source": [
    "# I see functions, function definitions everywhere"
   ]
  },
  {
   "cell_type": "code",
   "execution_count": null,
   "metadata": {},
   "outputs": [],
   "source": [
    "# Gumbel distribution (https://en.wikipedia.org/wiki/Gumbel_distribution)\n",
    "def gumbel_pdf(x, mu, sigma):\n",
    "    beta = sigma * (np.sqrt(6) / np.pi)\n",
    "    z = (x - mu) / beta\n",
    "    return (1 / beta) * np.exp(-(z + np.exp(-1 * z)))\n",
    "\n",
    "\n",
    "# a simple function to downsample an array by factor N\n",
    "def downsample(x, N):\n",
    "    return np.append(x, np.zeros(len(x) % N) * np.nan).reshape(-1, N).mean(axis=1)\n",
    "\n",
    "\n",
    "# @nb.jit(nopython=True, cache=False)  # cache=False only for performance comparison\n",
    "def numba_ix(arr, rows, cols):\n",
    "    \"\"\"\n",
    "    Numba compatible implementation of arr[np.ix_(rows, cols)] for 2D arrays.\n",
    "    from https://github.com/numba/numba/issues/5894#issuecomment-974701551\n",
    "    :param arr: 2D array to be indexed\n",
    "    :param rows: Row indices\n",
    "    :param cols: Column indices\n",
    "    :return: 2D array with the given rows and columns of the input array\n",
    "    \"\"\"\n",
    "    one_d_index = np.zeros(len(rows) * len(cols), dtype=np.int32)\n",
    "    for i, r in enumerate(rows):\n",
    "        start = i * len(cols)\n",
    "        one_d_index[start : start + len(cols)] = cols + arr.shape[1] * r\n",
    "\n",
    "    arr_1d = arr.reshape((arr.shape[0] * arr.shape[1], 1))\n",
    "    slice_1d = np.take(arr_1d, one_d_index)\n",
    "    return slice_1d.reshape((len(rows), len(cols)))\n",
    "\n",
    "\n",
    "def nnls(A, b, maxiter=None, tol=None):\n",
    "    \"\"\"\n",
    "    based on scipy implementation. Which in turn is based on\n",
    "    the algorithm given in  :doi:`10.1002/cem.889`\n",
    "    \"\"\"\n",
    "    m, n = A.shape\n",
    "\n",
    "    AtA = np.transpose(A) @ A\n",
    "    Atb = b @ A  # Result is 1D - let NumPy figure it out\n",
    "\n",
    "    if not maxiter:\n",
    "        maxiter = 3 * n\n",
    "    if tol is None:\n",
    "        tol = 10 * max(m, n) * np.spacing(1.0)\n",
    "\n",
    "    # Initialize vars\n",
    "    x = np.zeros(n, dtype=np.float64)\n",
    "    s = np.zeros(n, dtype=np.float64)\n",
    "    # Inactive constraint switches\n",
    "    P = np.zeros(n, dtype=bool)\n",
    "    Pidx = np.arange(0, len(P), 1, dtype=int)\n",
    "\n",
    "    # Projected residual\n",
    "    w = Atb.copy().astype(np.float64)  # x=0. Skip (-AtA @ x) term\n",
    "\n",
    "    # Overall iteration counter\n",
    "    # Outer loop is not counted, inner iter is counted across outer spins\n",
    "    iter = 0\n",
    "\n",
    "    while (not P.all()) and (w[~P] > tol).any():  # B\n",
    "        # Get the \"most\" active coeff index and move to inactive set\n",
    "        k = np.argmax(w * (~P))  # B.2\n",
    "        P[k] = True  # B.3\n",
    "\n",
    "        # Iteration solution\n",
    "        s[:] = 0.0\n",
    "        # B.4\n",
    "        s[P] = np.linalg.solve(numba_ix(AtA, Pidx[P], Pidx[P]), Atb[P])\n",
    "\n",
    "        # Inner loop\n",
    "        while (iter < maxiter) and (s[P].min() <= 0):  # C.1\n",
    "            iter += 1\n",
    "            inds = P * (s <= 0)\n",
    "            alpha = (x[inds] / (x[inds] - s[inds])).min()  # C.2\n",
    "            x *= 1 - alpha\n",
    "            x += alpha * s\n",
    "            P[x <= tol] = False\n",
    "            s[P] = np.linalg.solve(numba_ix(AtA, Pidx[P], Pidx[P]), Atb[P])\n",
    "            s[~P] = 0  # C.6\n",
    "\n",
    "        x[:] = s[:]\n",
    "        w[:] = Atb - AtA @ x\n",
    "\n",
    "        if iter == maxiter:\n",
    "            return x\n",
    "\n",
    "    return x"
   ]
  },
  {
   "cell_type": "markdown",
   "metadata": {},
   "source": [
    "# Simulation"
   ]
  },
  {
   "cell_type": "markdown",
   "metadata": {},
   "source": [
    "Lets generate a 5 GHz template with 2 ns sigma\n",
    "and a trace length of 150 ns.\n",
    "Downsample to realistic P-One DAQ times (here 200 MHz)"
   ]
  },
  {
   "cell_type": "code",
   "execution_count": null,
   "metadata": {},
   "outputs": [],
   "source": [
    "# 5 Ghz sampling assume 2 ns sigma\n",
    "x = np.arange(0, 150, 0.2)\n",
    "y = gumbel_pdf(x, 75, 2)\n",
    "\n",
    "# means we have to reduce by a factor of 20 to reach P-One sampling rate\n",
    "N = 25\n",
    "xd = downsample(x, N)\n",
    "yd = downsample(y, N)\n",
    "\n",
    "# boh looks about right\n",
    "plt.plot(x, y)\n",
    "plt.plot(xd, yd)"
   ]
  },
  {
   "cell_type": "markdown",
   "metadata": {},
   "source": [
    "## Generate that matrix"
   ]
  },
  {
   "cell_type": "code",
   "execution_count": null,
   "metadata": {},
   "outputs": [],
   "source": [
    "A = np.zeros((len(xd), len(x)))\n",
    "for i in range(len(x)):\n",
    "    A[:, i] = downsample(gumbel_pdf(x, x[i], 2), N)"
   ]
  },
  {
   "cell_type": "markdown",
   "metadata": {},
   "source": [
    "## 1 p.e. pulse"
   ]
  },
  {
   "cell_type": "code",
   "execution_count": null,
   "metadata": {},
   "outputs": [],
   "source": [
    "res = nnls(A, yd, 1000)\n",
    "zres = np.zeros(len(x))\n",
    "for i in range(len(zres)):\n",
    "    zres += res[i] * gumbel_pdf(x, x[i], 2)\n",
    "\n",
    "plt.plot(x, y, label=\"5 Ghz trace\")\n",
    "plt.plot(xd, yd, label=\"200 Mhz trace\")\n",
    "plt.plot(x, zres, label=\"reconstruction\", ls=\"--\")\n",
    "plt.xlim(60, 100)\n",
    "plt.legend()"
   ]
  },
  {
   "cell_type": "markdown",
   "metadata": {},
   "source": [
    "## 2 p.e. , 8 ns apart"
   ]
  },
  {
   "cell_type": "code",
   "execution_count": null,
   "metadata": {},
   "outputs": [],
   "source": [
    "# lets try 2 pe\n",
    "smpl_roll = 2\n",
    "yd2 = yd + np.roll(yd, smpl_roll)\n",
    "\n",
    "res2 = nnls(A, yd2, 1000)\n",
    "zres2 = np.zeros(len(x))\n",
    "for i in range(len(zres2)):\n",
    "    zres2 += res2[i] * gumbel_pdf(x, x[i], 2)\n",
    "\n",
    "plt.plot(x, y + np.roll(y, smpl_roll * N), label=\"5 Ghz trace\")\n",
    "plt.plot(xd, yd2, label=\"200 Mhz trace\")\n",
    "plt.plot(x, zres2, label=\"reconstruction\", ls=\"--\")\n",
    "plt.xlim(60, 100)\n",
    "plt.legend()"
   ]
  },
  {
   "cell_type": "markdown",
   "metadata": {},
   "source": [
    "## Adding baseline noise"
   ]
  },
  {
   "cell_type": "markdown",
   "metadata": {},
   "source": [
    "# Apply to test data"
   ]
  }
 ],
 "metadata": {},
 "nbformat": 4,
 "nbformat_minor": 2
}
