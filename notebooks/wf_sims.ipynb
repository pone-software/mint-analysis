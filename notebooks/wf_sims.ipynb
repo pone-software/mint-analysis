{
 "cells": [
  {
   "cell_type": "code",
   "execution_count": null,
   "id": "0",
   "metadata": {},
   "outputs": [],
   "source": [
    "import numpy as np\n",
    "import matplotlib.pyplot as plt\n",
    "from lgdo import lh5, VectorOfVectors, WaveformTable, Table, ArrayOfEqualSizedArrays, Array\n",
    "from numba import guvectorize\n",
    "from dspeed.utils import numba_defaults_kwargs as nb_kwargs"
   ]
  },
  {
   "cell_type": "code",
   "execution_count": null,
   "id": "1",
   "metadata": {},
   "outputs": [],
   "source": [
    "%matplotlib ipympl"
   ]
  },
  {
   "cell_type": "code",
   "execution_count": null,
   "id": "2",
   "metadata": {},
   "outputs": [],
   "source": [
    "# this processor will inject a gumbel distribution into the waveform\n",
    "@guvectorize(\n",
    "    [\n",
    "        \"void(float32[:], float32, float32, float32,float32[:])\",\n",
    "        \"void(float64[:], float64, float64, float64,float64[:])\",\n",
    "    ],\n",
    "    \"(n),(),(),()->(n)\",\n",
    "    **nb_kwargs,\n",
    ")\n",
    "\n",
    "def gumbel_inject(wf_in, a, t0, beta, wf_out):\n",
    "\n",
    "    wf_out[:] = np.nan\n",
    "\n",
    "    if (\n",
    "        np.isnan(wf_in).any()\n",
    "        or np.isnan(a)\n",
    "        or np.isnan(t0)\n",
    "        or np.isnan(beta)\n",
    "    ):\n",
    "        return\n",
    "    wf_out[:] = wf_in[:]\n",
    "\n",
    "    start = t0 # I have defined the distribution to essentially start at 2 sigma below the centroid\n",
    "    mu = t0 + (2 * beta)\n",
    "    end = mu + 8 * beta\n",
    "    if start < 0:\n",
    "        start = 0\n",
    "    if end > len(wf_in):\n",
    "        end = len(wf_in)\n",
    "    \n",
    "    for i in range(start, end):\n",
    "        z = (i-mu)/beta\n",
    "        wf_out[i] +=  (a/beta) * np.exp(-(z + np.exp(-z)))\n"
   ]
  },
  {
   "cell_type": "code",
   "execution_count": null,
   "id": "3",
   "metadata": {},
   "outputs": [],
   "source": [
    "from math import exp"
   ]
  },
  {
   "cell_type": "code",
   "execution_count": null,
   "id": "4",
   "metadata": {},
   "outputs": [],
   "source": [
    "@guvectorize(\n",
    "    [\n",
    "        \"void(float32[:], float32, float32, float32, float32, float32[:])\",\n",
    "        \"void(float64[:], float64, float64,float64,float64,float64[:])\",\n",
    "    ],\n",
    "    \"(n),(),(),(), ()->(n)\",\n",
    "    **nb_kwargs,\n",
    ")\n",
    "def inject_exp_pulse(\n",
    "    wf_in: np.ndarray, t0: int, rt: float, a: float, decay: float, wf_out: np.ndarray\n",
    ") -> None:\n",
    "    \"\"\"Inject exponential pulse into existing waveform to simulate pileup.\n",
    "\n",
    "    Parameters\n",
    "    ----------\n",
    "    wf_in\n",
    "        the input waveform.\n",
    "    t0\n",
    "        the position of the injected waveform.\n",
    "    rt\n",
    "        the rise time of the injected waveform.\n",
    "    a\n",
    "        the amplitude of the injected waveform.\n",
    "    decay\n",
    "        the exponential decay constant of the injected waveform.\n",
    "    wf_out\n",
    "        the output waveform.\n",
    "    \"\"\"\n",
    "\n",
    "    wf_out[:] = np.nan\n",
    "\n",
    "    if (\n",
    "        np.isnan(wf_in).any()\n",
    "        or np.isnan(rt)\n",
    "        or np.isnan(t0)\n",
    "        or np.isnan(a)\n",
    "        or np.isnan(decay)\n",
    "    ):\n",
    "        return\n",
    "\n",
    "    wf_out[:] = wf_in[:]\n",
    "    for t in range(len(wf_out)):\n",
    "        if t >= t0 and t <= t0 + rt:\n",
    "            wf_out[t] += a * exp((t - t0 - rt) / (rt)) * exp(-(1 / decay) * (t - t0))\n",
    "        elif t > t0 + rt:\n",
    "            wf_out[t] += a * exp(-(1 / decay) * (t - t0))"
   ]
  },
  {
   "cell_type": "code",
   "execution_count": null,
   "id": "5",
   "metadata": {},
   "outputs": [],
   "source": [
    "@guvectorize(\n",
    "    [\n",
    "        \"void(float32[:], float32, float32, float32, float32, float32[:])\",\n",
    "        \"void(float64[:], float64, float64,float64,float64,float64[:])\",\n",
    "    ],\n",
    "    \"(n),(),(),(), ()->(n)\",\n",
    "    **nb_kwargs,\n",
    ")\n",
    "def inject_gompertz_pulse(\n",
    "    wf_in: np.ndarray, t0: int, rt: float, a: float, decay: float, wf_out: np.ndarray\n",
    ") -> None:\n",
    "    \"\"\"Inject exponential pulse into existing waveform to simulate pileup.\n",
    "\n",
    "    Parameters\n",
    "    ----------\n",
    "    wf_in\n",
    "        the input waveform.\n",
    "    t0\n",
    "        the position of the injected waveform.\n",
    "    rt\n",
    "        the rise time of the injected waveform.\n",
    "    a\n",
    "        the amplitude of the injected waveform.\n",
    "    decay\n",
    "        the exponential decay constant of the injected waveform.\n",
    "    wf_out\n",
    "        the output waveform.\n",
    "    \"\"\"\n",
    "\n",
    "    wf_out[:] = np.nan\n",
    "\n",
    "    if (\n",
    "        np.isnan(wf_in).any()\n",
    "        or np.isnan(rt)\n",
    "        or np.isnan(t0)\n",
    "        or np.isnan(a)\n",
    "        or np.isnan(decay)\n",
    "    ):\n",
    "        return\n",
    "\n",
    "    wf_out[:] = wf_in[:]\n",
    "    for t in range(len(wf_out)):\n",
    "        wf_out[t] = wf_out[t] + a * exp((t0 + rt / 2) * exp(-rt*t)) * exp(-(1 / decay) * (t - t0))"
   ]
  },
  {
   "cell_type": "code",
   "execution_count": null,
   "id": "6",
   "metadata": {},
   "outputs": [],
   "source": [
    "# we'll just use basic white noise as the basis of our waveforms, this is slightly different to the \n",
    "# waveform data we have where the lower frequencies are higher\n",
    "mean = 0\n",
    "std = 20\n",
    "num_samples = 1000\n",
    "wf_len = 32\n",
    "samples = np.random.normal(mean, std, size=(num_samples, wf_len))\n"
   ]
  },
  {
   "cell_type": "code",
   "execution_count": null,
   "id": "7",
   "metadata": {},
   "outputs": [],
   "source": [
    "# shift samples to mean value 2000 (roughly corresponding to data\n",
    "mean = 2000\n",
    "std = 20\n",
    "samples += np.random.normal(mean, std, size=(num_samples, 1))\n"
   ]
  },
  {
   "cell_type": "code",
   "execution_count": null,
   "id": "8",
   "metadata": {},
   "outputs": [],
   "source": [
    "plt.figure()\n",
    "plt.plot(samples[0,:])\n",
    "plt.show()"
   ]
  },
  {
   "cell_type": "code",
   "execution_count": null,
   "id": "9",
   "metadata": {},
   "outputs": [],
   "source": [
    "# initialise the output object\n",
    "wf_gumbel = np.zeros_like(samples)\n",
    "wf_exp = np.zeros_like(samples)"
   ]
  },
  {
   "cell_type": "code",
   "execution_count": null,
   "id": "10",
   "metadata": {},
   "outputs": [],
   "source": [
    "# fix amplitude and width, vary t0 using uniform distribution\n",
    "amplitude = 1000\n",
    "width = 1\n",
    "t0 = np.random.uniform(12,14,num_samples)"
   ]
  },
  {
   "cell_type": "code",
   "execution_count": null,
   "id": "11",
   "metadata": {},
   "outputs": [],
   "source": [
    "for i in range(num_samples):\n",
    "    gumbel_inject(samples[i,:], amplitude, t0[i], width, wf_gumbel[i,:])"
   ]
  },
  {
   "cell_type": "code",
   "execution_count": null,
   "id": "12",
   "metadata": {},
   "outputs": [],
   "source": [
    "from dspeed.processors import inject_exp_pulse"
   ]
  },
  {
   "cell_type": "code",
   "execution_count": null,
   "id": "13",
   "metadata": {},
   "outputs": [],
   "source": [
    "amplitude = 400\n",
    "rt = 2\n",
    "decay = 3"
   ]
  },
  {
   "cell_type": "code",
   "execution_count": null,
   "id": "14",
   "metadata": {},
   "outputs": [],
   "source": [
    "for i in range(num_samples):\n",
    "    inject_exp_pulse(samples[i,:], t0[i], rt, amplitude, decay, wf_exp[i,:])"
   ]
  },
  {
   "cell_type": "code",
   "execution_count": null,
   "id": "15",
   "metadata": {},
   "outputs": [],
   "source": [
    "plt.figure()\n",
    "plt.plot(samples[1,:])\n",
    "plt.plot(wf_gumbel[1,:])\n",
    "plt.plot(wf_exp[1,:])\n",
    "plt.show()"
   ]
  },
  {
   "cell_type": "code",
   "execution_count": null,
   "id": "16",
   "metadata": {},
   "outputs": [],
   "source": [
    "sim_values =  ArrayOfEqualSizedArrays(nda=wf_gumbel,dtype=np.uint16)"
   ]
  },
  {
   "cell_type": "code",
   "execution_count": null,
   "id": "17",
   "metadata": {},
   "outputs": [],
   "source": [
    "sim_wfs = WaveformTable(values= sim_values, dt=4.8, dt_units=\"ns\",t0=0, t0_units=\"ns\")"
   ]
  },
  {
   "cell_type": "code",
   "execution_count": null,
   "id": "18",
   "metadata": {},
   "outputs": [],
   "source": [
    "table = Table({\"waveform\":sim_wfs})\n"
   ]
  },
  {
   "cell_type": "code",
   "execution_count": null,
   "id": "19",
   "metadata": {},
   "outputs": [],
   "source": [
    "from pathlib import Path"
   ]
  },
  {
   "cell_type": "code",
   "execution_count": null,
   "id": "20",
   "metadata": {},
   "outputs": [],
   "source": [
    "file_path = Path(\"../sim_data/raw/sim_wfs_white_noise.lh5\")\n",
    "file_path.parent.mkdir(parents=True, exist_ok=True)\n",
    "lh5.write(table,\n",
    "          name=\"raw\",\n",
    "          lh5_file=file_path\n",
    "         )"
   ]
  },
  {
   "cell_type": "code",
   "execution_count": null,
   "id": "21",
   "metadata": {},
   "outputs": [],
   "source": [
    "# this processor will inject a gumbel distribution into the waveform\n",
    "\n",
    "def random_normal_build(seed, mu, sigma):\n",
    "    ran = np.random.default_rng(seed)\n",
    "\n",
    "    @guvectorize(\n",
    "    [\n",
    "        \"void(float32[:])\",\n",
    "        \"void(float64[:])\",\n",
    "    ],\n",
    "        \"(n)\",\n",
    "        **nb_kwargs,\n",
    "    )\n",
    "\n",
    "    def random_normal(w_out):\n",
    "        w_out = ran.normal(mu, sigma, w_out.shape)\n",
    "    return random_normal"
   ]
  },
  {
   "cell_type": "code",
   "execution_count": null,
   "id": "22",
   "metadata": {},
   "outputs": [],
   "source": [
    "ran = random_normal_build(1, 0, 1)"
   ]
  },
  {
   "cell_type": "code",
   "execution_count": null,
   "id": "23",
   "metadata": {},
   "outputs": [],
   "source": [
    "ran("
   ]
  },
  {
   "cell_type": "code",
   "execution_count": null,
   "id": "24",
   "metadata": {},
   "outputs": [],
   "source": [
    "from dspeed.processors import inject_sig_pulse"
   ]
  },
  {
   "cell_type": "code",
   "execution_count": null,
   "id": "25",
   "metadata": {},
   "outputs": [],
   "source": [
    "xs = np.zeros(2000)"
   ]
  },
  {
   "cell_type": "code",
   "execution_count": null,
   "id": "26",
   "metadata": {},
   "outputs": [],
   "source": [
    "wf_test_g = np.zeros_like(xs)\n",
    "wf_test_exp = np.zeros_like(xs)\n",
    "wf_test_sig = np.zeros_like(xs)\n",
    "wf_test_sig2 = np.zeros_like(xs)"
   ]
  },
  {
   "cell_type": "code",
   "execution_count": null,
   "id": "27",
   "metadata": {},
   "outputs": [],
   "source": [
    "gumbel_inject(xs, 400, 500, 200, wf_test_g)\n",
    "inject_exp_pulse(xs, 500, 100, 1, 200, wf_test_exp)\n",
    "inject_sig_pulse(xs, 320, 900, 12, 200, wf_test_sig)\n",
    "#inject_gompertz_pulse(xs, 320, 900, 12, 200, wf_test_sig2)\n",
    "plt.figure()\n",
    "plt.plot(wf_test_g)\n",
    "#plt.plot(wf_test_exp)\n",
    "plt.plot(wf_test_sig)\n",
    "#plt.plot(wf_test_sig2)\n",
    "\n",
    "plt.show"
   ]
  },
  {
   "cell_type": "code",
   "execution_count": null,
   "id": "28",
   "metadata": {},
   "outputs": [],
   "source": [
    "indexes = np.arange(0,100, 5) \n",
    "indexes"
   ]
  },
  {
   "cell_type": "code",
   "execution_count": null,
   "id": "29",
   "metadata": {},
   "outputs": [],
   "source": [
    "flat_t0 = np.floor(t0)\n",
    "shifts_list = flat_t0 - t0_start  # what is t0 start?\n",
    "# this will need to be more general will need \n",
    "# to perform a first shift to fixed position i.e. subtract t0 first\n",
    "wf_extended = np.zeros(wf_len)\n",
    "counts = np.zeros(wf_len)\n",
    "for i, wf in enumerate(wf_gumbel): # this should be easier to do on the array level\n",
    "    shift = int(shifts_list[i])\n",
    "    for j, value in enumerate(wf):\n",
    "            index = j-shift\n",
    "            #print(index)\n",
    "            # print(shift, j, index)\n",
    "            wf_extended[index]+= value\n",
    "            counts[index]+= 1\n",
    "\n",
    "plt.figure()\n",
    "plt.plot(wf_extended/counts)\n",
    "plt.show()"
   ]
  }
 ],
 "metadata": {},
 "nbformat": 4,
 "nbformat_minor": 5
}
