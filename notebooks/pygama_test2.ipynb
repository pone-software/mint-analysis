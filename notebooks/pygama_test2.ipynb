{
 "cells": [
  {
   "cell_type": "code",
   "execution_count": null,
   "id": "0",
   "metadata": {},
   "outputs": [],
   "source": [
    "# LEGEND specific imports\n",
    "import glob\n",
    "from pathlib import Path\n",
    "\n",
    "# MISC\n",
    "import matplotlib.pyplot as plt\n",
    "import numpy as np\n",
    "from dspeed import build_dsp\n",
    "\n",
    "# P-ONE fastDAQ decoder\n",
    "from eng_reader import EngFormatReader\n",
    "from lgdo import ArrayOfEqualSizedArrays, Table, WaveformTable, lh5"
   ]
  },
  {
   "cell_type": "code",
   "execution_count": null,
   "id": "1",
   "metadata": {},
   "outputs": [],
   "source": [
    "# Just some paths\n",
    "DAQ_PATH = \"../data/gain_cal/daq/\"\n",
    "RAW_PATH = \"../data/gain_cal/raw/\"\n",
    "DSP_PATH = \"../data/gain_cal/dsp/\""
   ]
  },
  {
   "cell_type": "markdown",
   "id": "2",
   "metadata": {},
   "source": [
    "# Hello Waveforms!"
   ]
  },
  {
   "cell_type": "code",
   "execution_count": null,
   "id": "3",
   "metadata": {},
   "outputs": [],
   "source": [
    "%matplotlib ipympl"
   ]
  },
  {
   "cell_type": "code",
   "execution_count": null,
   "id": "4",
   "metadata": {},
   "outputs": [],
   "source": [
    "help(ArrayOfEqualSizedArrays)"
   ]
  },
  {
   "cell_type": "code",
   "execution_count": null,
   "id": "5",
   "metadata": {},
   "outputs": [],
   "source": [
    "f = open(DAQ_PATH + \"gain_cal_95.txt\")\n",
    "r = EngFormatReader(f)\n",
    "\n",
    "plt.figure()\n",
    "for i in range(50):\n",
    "    readout_test = r.read_next_trigger()\n",
    "    if r.eof:\n",
    "        break\n",
    "    plt.plot(readout_test.waveforms[2][1:])\n",
    "plt.show()"
   ]
  },
  {
   "cell_type": "markdown",
   "id": "6",
   "metadata": {
    "tags": []
   },
   "source": [
    "# Write P-One txt data to LEGEND raw format"
   ]
  },
  {
   "cell_type": "markdown",
   "id": "7",
   "metadata": {},
   "source": [
    "We call the decoder on some MSU testdata\n",
    "The data contains two relevant channels: channel 2 and channel 13"
   ]
  },
  {
   "cell_type": "code",
   "execution_count": null,
   "id": "8",
   "metadata": {},
   "outputs": [],
   "source": [
    "f = open(DAQ_PATH + \"gain_cal_95.txt\")\n",
    "\n",
    "r = EngFormatReader(f)\n",
    "signal = {\n",
    "    \"ch002\": [],\n",
    "    \"ch013\": [],\n",
    "}  # init a list for each channel to which we will write the waveforms\n",
    "while True:\n",
    "    readout_test = r.read_next_trigger()\n",
    "    if r.eof:\n",
    "        break\n",
    "    # append the list of samples from each waveform to the list of waveforms\n",
    "    # --> not very elegant, but does the trick for testing\n",
    "    signal[\"ch002\"].append(readout_test.waveforms[2])\n",
    "    signal[\"ch013\"].append(readout_test.waveforms[13])"
   ]
  },
  {
   "cell_type": "markdown",
   "id": "9",
   "metadata": {},
   "source": [
    "Now we convert our waveforms into LEGEND data type and write it out to disk"
   ]
  },
  {
   "cell_type": "code",
   "execution_count": null,
   "id": "10",
   "metadata": {},
   "outputs": [],
   "source": [
    "f_raw = RAW_PATH + \"pone_meets_legend_gain_95_raw.lh5\"\n",
    "Path(f_raw).parent.mkdir(parents=True, exist_ok=True)\n",
    "for k in signal:\n",
    "    # lets convert the list of list into a rectangular structure (fingers crossed all entries have the same length)\n",
    "    a = ArrayOfEqualSizedArrays(nda=np.array(signal[k], dtype=np.uint16))\n",
    "\n",
    "    # Lets utilize one of the LEGEND specific data objects.\n",
    "    # WaveformTable takes a rectangular array or a VectorOfVector (in case we have waveforms with different lengths)\n",
    "    # and assigns sampling rate (here 4.8 ns), t_0 offset and units\n",
    "    b = WaveformTable(values=a, dt=4.8, dt_units=\"ns\", t0=0, t0_units=\"ns\")\n",
    "\n",
    "    # add everything into a lh5 structure and write it to disk\n",
    "    table = Table(size=len(b))\n",
    "    table.add_field(\"waveform\", b, True)\n",
    "    lh5.write(table, name=\"raw\", group=k, lh5_file=f_raw)"
   ]
  },
  {
   "cell_type": "markdown",
   "id": "11",
   "metadata": {},
   "source": [
    "Lets look what we have done.\n",
    "the show command allows to view the files structure.\n",
    "Hopefully we set it up in a way that it is understandable for anybody seeing this"
   ]
  },
  {
   "cell_type": "code",
   "execution_count": null,
   "id": "12",
   "metadata": {},
   "outputs": [],
   "source": [
    "f_raw = RAW_PATH + \"pone_meets_legend_gain_95_raw.lh5\"\n",
    "lh5.show(f_raw, attrs=True)"
   ]
  },
  {
   "cell_type": "code",
   "execution_count": null,
   "id": "13",
   "metadata": {},
   "outputs": [],
   "source": [
    "tbl = lh5.read(\"ch002/raw\", f_raw)\n",
    "tbl2 = lh5.read(\"ch013/raw\", f_raw)"
   ]
  },
  {
   "cell_type": "code",
   "execution_count": null,
   "id": "14",
   "metadata": {},
   "outputs": [],
   "source": [
    "tbl.waveform.dt"
   ]
  },
  {
   "cell_type": "code",
   "execution_count": null,
   "id": "15",
   "metadata": {},
   "outputs": [],
   "source": [
    "len(tbl), len(tbl2)"
   ]
  },
  {
   "cell_type": "code",
   "execution_count": null,
   "id": "16",
   "metadata": {},
   "outputs": [],
   "source": [
    "plt.figure()\n",
    "for wf in tbl.waveform.values.nda[:10]:\n",
    "    plt.plot(wf[1:])\n",
    "plt.ylim([2000, 2100])\n",
    "plt.show()"
   ]
  },
  {
   "cell_type": "code",
   "execution_count": null,
   "id": "17",
   "metadata": {},
   "outputs": [],
   "source": [
    "plt.figure()\n",
    "\n",
    "plt.plot(tbl.waveform.values.nda[6])\n",
    "plt.ylim([2040, 2100])\n",
    "plt.show()"
   ]
  },
  {
   "cell_type": "code",
   "execution_count": null,
   "id": "18",
   "metadata": {},
   "outputs": [],
   "source": [
    "plt.figure()\n",
    "for wf in tbl2.waveform.values.nda[:100]:\n",
    "    plt.plot(wf)\n",
    "plt.show()"
   ]
  },
  {
   "cell_type": "code",
   "execution_count": null,
   "id": "19",
   "metadata": {},
   "outputs": [],
   "source": [
    "tbl2.waveform.values.nda.shape"
   ]
  },
  {
   "cell_type": "code",
   "execution_count": null,
   "id": "20",
   "metadata": {},
   "outputs": [],
   "source": [
    "len(tbl2.waveform.values.nda[0])"
   ]
  },
  {
   "cell_type": "markdown",
   "id": "21",
   "metadata": {},
   "source": [
    "# RAW to DSP, signal processing on the fly"
   ]
  },
  {
   "cell_type": "markdown",
   "id": "22",
   "metadata": {},
   "source": [
    "Ok. Now comes the fun part: Processing our waveforms!\n",
    "First we define a processing configuration and outputs.\n",
    "Here we do\n",
    "- hermetic spline upsampling of the waveform to 1 ns\n",
    "- apply an average fillter to remove some noise\n",
    "- find the baseline by applying a linear fit to the first four samples of the waveform\n",
    "- substracting the baseline from the waveform\n",
    "- finding global extrema\n",
    "- Building a +1 15 ns coincidence window around the maximum\n",
    "- integrate the waveform insite the coincidence window\n",
    "- Picking of the maximum of the integral --> charge"
   ]
  },
  {
   "cell_type": "code",
   "execution_count": null,
   "id": "23",
   "metadata": {},
   "outputs": [],
   "source": [
    "from dspeed.vis import WaveformBrowser"
   ]
  },
  {
   "cell_type": "code",
   "execution_count": null,
   "id": "24",
   "metadata": {
    "tags": []
   },
   "outputs": [],
   "source": [
    "config = {\n",
    "    \"outputs\": [\n",
    "        \"tp_max\",\n",
    "        \"wf_max\",\n",
    "        \"charge\",\n",
    "    ],\n",
    "    \"processors\": {\n",
    "        \"wf_up\": {\n",
    "            \"function\": \"interpolating_upsampler\",\n",
    "            \"module\": \"dspeed.processors\",\n",
    "            \"args\": [\"waveform\", \"'h'\", \"wf_up(len(waveform)*9.6, period=waveform.period/9.6)\"],\n",
    "            \"unit\": \"ADC\",\n",
    "        },\n",
    "        \"wf_av\": {\n",
    "            \"function\": \"moving_window_multi\",\n",
    "            \"module\": \"dspeed.processors\",\n",
    "            \"args\": [\"wf_up\", \"8\", \"4\", \"0\", \"wf_av\"],\n",
    "            \"unit\": \"ADC/sample\",\n",
    "        },\n",
    "        \"bl_mean , bl_std, bl_slope, bl_intercept\": {\n",
    "            \"function\": \"linear_slope_fit\",\n",
    "            \"module\": \"dspeed.processors\",\n",
    "            \"args\": [\"wf_up[1:50]\", \"bl_mean\", \"bl_std\", \"bl_slope\", \"bl_intercept\"],\n",
    "            \"unit\": [\"ADC\", \"ADC\", \"ADC\", \"ADC\"],\n",
    "        },\n",
    "        \"wf_blsub\": {\n",
    "            \"function\": \"subtract\",\n",
    "            \"module\": \"numpy\",\n",
    "            \"args\": [\"wf_av\", \"bl_mean\", \"wf_blsub\"],\n",
    "            \"unit\": \"ADC\",\n",
    "        },\n",
    "        \"wf_rc_cr2\": {\n",
    "            \"function\": \"rc_cr2\",\n",
    "            \"module\": \"dspeed.processors\",\n",
    "            \"args\": [\"wf_blsub\", \"20*ns\", \"wf_rc_cr2\"],\n",
    "            \"unit\": \"ADC\",\n",
    "        },\n",
    "        \"tp_min, tp_max, wf_min, wf_max\": {\n",
    "            \"function\": \"min_max\",\n",
    "            \"module\": \"dspeed.processors\",\n",
    "            \"args\": [\"wf_blsub\", \"tp_min\", \"tp_max\", \"wf_min\", \"wf_max\"],\n",
    "            \"unit\": [\"ns\", \"ns\", \"ADC\", \"ADC\"],\n",
    "        },\n",
    "        \"wf_coin\": {\n",
    "            \"function\": \"windower\",\n",
    "            \"module\": \"dspeed.processors\",\n",
    "            \"args\": [\n",
    "                \"wf_blsub\",\n",
    "                \"tp_max-15*ns\",\n",
    "                \"wf_coin(shape=round(30*ns/wf_blsub.period), period=wf_blsub.period, offset=(tp_max-15*ns)/wf_blsub.period)\",\n",
    "            ],\n",
    "            \"unit\": [\"ADC\"],\n",
    "        },\n",
    "        \"wf_cum_coin\": {\n",
    "            \"function\": \"cumsum\",\n",
    "            \"module\": \"numpy\",\n",
    "            \"args\": [\"wf_coin\", 1, \"None\", \"wf_cum_coin\"],\n",
    "            \"kwargs\": {\"signature\": \"(n),(),()->(n)\", \"types\": [\"fii->f\"]},\n",
    "            \"unit\": \"ADC\",\n",
    "        },\n",
    "        \"tp_min_int, tp_max_int, wf_min_int, charge\": {\n",
    "            \"function\": \"min_max\",\n",
    "            \"module\": \"dspeed.processors\",\n",
    "            \"args\": [\"wf_cum_coin\", \"tp_min_int\", \"tp_max_int\", \"wf_min_int\", \"charge\"],\n",
    "            \"unit\": [\"ns\", \"ns\", \"ADC\", \"ADC\"],\n",
    "        },\n",
    "        \"wf_cumsum\": {\n",
    "            \"function\": \"cumsum\",\n",
    "            \"module\": \"numpy\",\n",
    "            \"args\": [\"wf_blsub\", 1, \"None\", \"wf_cumsum\"],\n",
    "            \"kwargs\": {\"signature\": \"(n),(),()->(n)\", \"types\": [\"fii->f\"]},\n",
    "            \"unit\": \"ADC\",\n",
    "        },\n",
    "    },\n",
    "}"
   ]
  },
  {
   "cell_type": "markdown",
   "id": "25",
   "metadata": {},
   "source": [
    "LEGENDs signal processing package (dspeed) includes a WaveformBrowser with which we can apply processors from our above configuration on the fly, and look at the output.\n",
    "Lets plot on of the upsampled, baseline substracted waveforms and mark the maximum "
   ]
  },
  {
   "cell_type": "code",
   "execution_count": null,
   "id": "26",
   "metadata": {},
   "outputs": [],
   "source": [
    "entry_no = 6\n",
    "browser = WaveformBrowser(\n",
    "    RAW_PATH + \"pone_meets_legend_gain_95_raw.lh5\",\n",
    "    \"ch002/raw\",\n",
    "    dsp_config=config,\n",
    "    lines=[\"wf_blsub\", \"tp_max\", \"wf_rc_cr2\"],\n",
    "    # styles=[\n",
    "    #     {\"color\": [\"r\"], \"ls\": [\"dotted\"]},\n",
    "    # {\"color\": [\"g\"], \"ls\": [\"dotted\"]},\n",
    "    # {\"color\": [\"skyblue\"] , \"ls\": [\"dotted\"]},\n",
    "    # ],\n",
    "    # y_lim=(-10, 100),\n",
    ")\n",
    "browser.draw_entry(entry_no)"
   ]
  },
  {
   "cell_type": "markdown",
   "id": "27",
   "metadata": {},
   "source": [
    "Now that we are happy with our processing chain. We need only one more line to create our DSP level"
   ]
  },
  {
   "cell_type": "code",
   "execution_count": null,
   "id": "28",
   "metadata": {},
   "outputs": [],
   "source": [
    "f_raw = glob.glob(RAW_PATH + \"*\")\n",
    "\n",
    "for f in f_raw:\n",
    "    f_dsp = f.replace(\"raw\", \"dsp\")\n",
    "    build_dsp(\n",
    "        f_raw=f,\n",
    "        f_dsp=f_dsp,\n",
    "        dsp_config=config,\n",
    "        write_mode=\"o\",\n",
    "    )"
   ]
  },
  {
   "cell_type": "markdown",
   "id": "29",
   "metadata": {},
   "source": [
    "Lets have a look into our created dsp file!"
   ]
  },
  {
   "cell_type": "code",
   "execution_count": null,
   "id": "30",
   "metadata": {},
   "outputs": [],
   "source": [
    "f_dsp = DSP_PATH + \"pone_meets_legend_gain_95_dsp.lh5\"\n",
    "lh5.show(f_dsp, attrs=True)"
   ]
  },
  {
   "cell_type": "markdown",
   "id": "31",
   "metadata": {},
   "source": [
    "Lets also plot the p.e. spectra."
   ]
  },
  {
   "cell_type": "code",
   "execution_count": null,
   "id": "32",
   "metadata": {},
   "outputs": [],
   "source": [
    "f_dsp = glob.glob(DSP_PATH + \"*.lh5\")\n",
    "\n",
    "fig, ax = plt.subplots(3)\n",
    "for f in f_dsp:\n",
    "    voltage = f.split(\"_\")[-2]\n",
    "\n",
    "    trig_dsp = lh5.read_as(\"ch013/dsp\", f, \"ak\")\n",
    "    pmt_dsp = lh5.read_as(\"ch002/dsp\", f, \"ak\")\n",
    "\n",
    "    ax[0].hist(\n",
    "        pmt_dsp.charge, bins=np.linspace(0, 500, 125), histtype=\"step\", label=f\"{voltage} V\"\n",
    "    )\n",
    "    ax[1].hist(\n",
    "        pmt_dsp.tp_max, bins=np.linspace(0, 150, 150), histtype=\"step\", label=f\"{voltage} V\"\n",
    "    )\n",
    "    ax[2].hist(\n",
    "        trig_dsp.tp_max, bins=np.linspace(0, 150, 150), histtype=\"step\", label=f\"{voltage} V\"\n",
    "    )\n",
    "ax[0].set_yscale(\"log\")\n",
    "ax[2].set_yscale(\"log\")\n",
    "ax[0].legend()\n",
    "# ax[0].set_xlim(0,100)"
   ]
  },
  {
   "cell_type": "markdown",
   "id": "33",
   "metadata": {},
   "source": [
    "# DSP to HIT: Applying functions to DSP data (i.e. calibration curves)"
   ]
  }
 ],
 "metadata": {},
 "nbformat": 4,
 "nbformat_minor": 5
}
