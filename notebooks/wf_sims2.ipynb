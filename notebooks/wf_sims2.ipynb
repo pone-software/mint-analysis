{
 "cells": [
  {
   "cell_type": "code",
   "execution_count": null,
   "id": "0",
   "metadata": {},
   "outputs": [],
   "source": [
    "import numpy as np\n",
    "import matplotlib.pyplot as plt\n",
    "from lgdo import lh5, VectorOfVectors, WaveformTable, Table, ArrayOfEqualSizedArrays, Array\n",
    "from numba import guvectorize\n",
    "from dspeed.utils import numba_defaults_kwargs as nb_kwargs"
   ]
  },
  {
   "cell_type": "code",
   "execution_count": null,
   "id": "1",
   "metadata": {},
   "outputs": [],
   "source": [
    "%matplotlib ipympl"
   ]
  },
  {
   "cell_type": "code",
   "execution_count": null,
   "id": "2",
   "metadata": {},
   "outputs": [],
   "source": [
    "# This processor will inject a Gumbel distribution into the input waveform.\n",
    "@guvectorize(\n",
    "    [\n",
    "        # Define function signatures for single-precision (float32) and double-precision (float64).\n",
    "        \"void(float32[:], float32, float32, float32, float32[:])\",\n",
    "        \"void(float64[:], float64, float64, float64, float64[:])\",\n",
    "    ],\n",
    "    # Dimension signature: (n) is the input array, (),(),() are scalar inputs, and ->(n) is the output array.\n",
    "    \"(n),(),(),()->(n)\",\n",
    "    **nb_kwargs,  # Additional arguments (e.g., target=\"parallel\" for parallelization).\n",
    ")\n",
    "def gumbel_inject(wf_in, a, t0, beta, wf_out):\n",
    "    \"\"\"\n",
    "    Injects a Gumbel distribution into the waveform `wf_in`, modifying it in place in `wf_out`.\n",
    "    \n",
    "    Parameters:\n",
    "    - wf_in: Input waveform (1D array).\n",
    "    - a: Amplitude of the Gumbel distribution.\n",
    "    - t0: Temporal centroid of the Gumbel distribution.\n",
    "    - beta: Scale parameter (controls spread of the Gumbel distribution).\n",
    "    - wf_out: Output waveform (1D array), modified by adding the Gumbel distribution.\n",
    "    \"\"\"\n",
    "    \n",
    "    # Initialize the output array with NaN values.\n",
    "    wf_out[:] = np.nan\n",
    "\n",
    "    # Early exit if any of the inputs contain NaN values (invalid inputs).\n",
    "    if (\n",
    "        np.isnan(wf_in).any()  # Check for NaNs in the input waveform.\n",
    "        or np.isnan(a)         # Check for NaN in amplitude.\n",
    "        or np.isnan(t0)        # Check for NaN in the centroid.\n",
    "        or np.isnan(beta)      # Check for NaN in the scale parameter.\n",
    "    ):\n",
    "        return  # If any input is invalid, exit without modifying wf_out.\n",
    "\n",
    "    # Copy the input waveform into the output array as a starting point.\n",
    "    wf_out[:] = wf_in[:]\n",
    "\n",
    "    # Define the range of indices over which the Gumbel distribution will be applied.\n",
    "    # Start injecting the distribution at 2 beta below the centroid (t0).\n",
    "    start = t0  # Initial guess for start index.\n",
    "    mu = t0 + (2 * beta)  # Adjust centroid based on beta.\n",
    "    end = mu + 8 * beta  # End injecting at ~8 beta above the centroid.\n",
    "\n",
    "    # Ensure the range is within valid waveform boundaries.\n",
    "    if start < 0:  # Clamp start to 0 if it falls below array bounds.\n",
    "        start = 0\n",
    "    if end > len(wf_in):  # Clamp end to the array's length if it exceeds bounds.\n",
    "        end = len(wf_in)\n",
    "\n",
    "    # Loop through the specified range and add the Gumbel distribution to wf_out.\n",
    "    for i in range(start, end):\n",
    "        # Calculate the normalized variable z for the Gumbel function.\n",
    "        z = (i - mu) / beta\n",
    "        \n",
    "        # Gumbel distribution PDF:\n",
    "        # (a / beta) scales the distribution by amplitude and scale factor.\n",
    "        # np.exp(-(z + np.exp(-z))) computes the Gumbel function at index i.\n",
    "        wf_out[i] += (a / beta) * np.exp(-(z + np.exp(-z)))"
   ]
  },
  {
   "cell_type": "code",
   "execution_count": null,
   "id": "3",
   "metadata": {},
   "outputs": [],
   "source": [
    "# we'll just use basic white noise as the basis of our waveforms, this is slightly different to the \n",
    "# waveform data we have where the lower frequencies are higher\n",
    "mean = 0\n",
    "std = 20\n",
    "num_samples = 1000 #number of points\n",
    "wf_len = 32 #the number of points in the wavefunction\n",
    "samples = np.random.normal(mean, std, size=(num_samples, wf_len))\n",
    "#this create white noise\n"
   ]
  },
  {
   "cell_type": "code",
   "execution_count": null,
   "id": "4",
   "metadata": {},
   "outputs": [],
   "source": [
    "# shift samples to mean value 2000 (roughly corresponding to data)\n",
    "mean = 2000\n",
    "std = 20\n",
    "samples += np.random.normal(mean, std, size=(num_samples, 1))"
   ]
  },
  {
   "cell_type": "code",
   "execution_count": null,
   "id": "5",
   "metadata": {},
   "outputs": [],
   "source": [
    "plt.figure()\n",
    "plt.plot(samples[0,:])\n",
    "plt.show()"
   ]
  },
  {
   "cell_type": "code",
   "execution_count": null,
   "id": "6",
   "metadata": {},
   "outputs": [],
   "source": [
    "# initialise the output object\n",
    "wf_gumbel = np.zeros_like(samples)"
   ]
  },
  {
   "cell_type": "code",
   "execution_count": null,
   "id": "7",
   "metadata": {},
   "outputs": [],
   "source": [
    "# fix amplitude and width, vary t0 using uniform distribution\n",
    "amplitude = 1000 #the bigger the amplitude, the clearer the peak. a small amplitude (>500) leads to an unclear peak. \n",
    "width = 1 #the smaller the width, the clearer the peak. a big width (>1.5) leads to an unclear peak.\n",
    "t0_start = 11\n",
    "shift = 5\n",
    "t0 = np.random.uniform(t0_start,t0_start+shift,num_samples) #this indicates where the gumbel peak starts\n",
    "t0_error = np.random.normal("
   ]
  },
  {
   "cell_type": "code",
   "execution_count": null,
   "id": "8",
   "metadata": {},
   "outputs": [],
   "source": [
    "for i in range(num_samples):\n",
    "    gumbel_inject(samples[i,:], amplitude, t0[i], width, wf_gumbel[i,:])"
   ]
  },
  {
   "cell_type": "code",
   "execution_count": null,
   "id": "9",
   "metadata": {},
   "outputs": [],
   "source": [
    "plt.figure()\n",
    "plt.plot(wf_gumbel[100,:])\n",
    "plt.show()"
   ]
  },
  {
   "cell_type": "code",
   "execution_count": null,
   "id": "10",
   "metadata": {},
   "outputs": [],
   "source": [
    "full_interval = np.max(t0) - np.min(t0)\n",
    "num_steps = 5\n",
    "step_size = full_interval/num_steps\n",
    "shifts_list = np.floor((t0-np.min(t0))/step_size).astype(int)"
   ]
  },
  {
   "cell_type": "code",
   "execution_count": null,
   "id": "11",
   "metadata": {},
   "outputs": [],
   "source": [
    "t - t0"
   ]
  },
  {
   "cell_type": "code",
   "execution_count": null,
   "id": "12",
   "metadata": {},
   "outputs": [],
   "source": [
    "wf_extended = np.zeros(wf_len)\n",
    "counts = np.zeros(wf_len)\n",
    "base = np.arange(wf_len)\n",
    "shifts = shifts_list[:, None]  # Shape (num_waveforms, 1) for broadcasting\n",
    "\n",
    "# Calculate indices for all waveforms and clip them\n",
    "indexes = np.clip(base - shifts, 0, wf_len - 1)  # Shape (num_waveforms, wf_len)\n",
    "print(indexes)\n",
    "\n",
    "# Accumulate wf_gumbel values into wf_extended\n",
    "np.add.at(wf_extended, indexes, wf_gumbel)\n",
    "\n",
    "# Accumulate contributions into counts\n",
    "np.add.at(counts, indexes, 1)\n",
    "\n",
    "print(counts)\n",
    "# Plot the result\n",
    "plt.figure()\n",
    "plt.plot(wf_extended / counts)\n",
    "plt.show()"
   ]
  },
  {
   "cell_type": "code",
   "execution_count": null,
   "id": "13",
   "metadata": {},
   "outputs": [],
   "source": [
    "# Initialize extended arrays\n",
    "wf_extended = np.zeros(wf_len * 5)\n",
    "counts = np.zeros(wf_len * 5)\n",
    "base = np.arange(wf_len)\n",
    "\n",
    "upsample = 5\n",
    "shifts_list = np.floor((t0-10)*upsample).astype(int)\n",
    "shifts = shifts_list[:, None]  # Shape (num_waveforms, 1) for broadcasting\n",
    "indices = base * upsample - shifts  # Shape (num_waveforms, wf_len)"
   ]
  },
  {
   "cell_type": "code",
   "execution_count": null,
   "id": "14",
   "metadata": {},
   "outputs": [],
   "source": [
    "shifts = shifts_list[:, None]  # Shape (num_waveforms, 1) for broadcasting\n",
    "indices = base * upsample - shifts  # Shape (num_waveforms, wf_len)\n",
    "\n",
    "# Scatter-add values to wf_extended and counts\n",
    "for i in range(num_samples):\n",
    "    wf_extended[indices[i]] += wf_gumbel[i,:]\n",
    "    counts[indices[i]] += np.ones(wf_len)\n",
    "\n",
    "# Plot the result\n",
    "plt.figure()\n",
    "plt.plot(wf_extended / counts)\n",
    "plt.xlim([40,80])\n",
    "plt.show()"
   ]
  },
  {
   "cell_type": "code",
   "execution_count": null,
   "id": "15",
   "metadata": {},
   "outputs": [],
   "source": [
    "len(wf_extended)"
   ]
  },
  {
   "cell_type": "code",
   "execution_count": null,
   "id": "16",
   "metadata": {},
   "outputs": [],
   "source": [
    "shifts_list"
   ]
  },
  {
   "cell_type": "code",
   "execution_count": null,
   "id": "17",
   "metadata": {},
   "outputs": [],
   "source": [
    "sim_values =  ArrayOfEqualSizedArrays(nda=wf_gumbel,dtype=np.uint16)"
   ]
  },
  {
   "cell_type": "code",
   "execution_count": null,
   "id": "18",
   "metadata": {},
   "outputs": [],
   "source": [
    "sim_wfs = WaveformTable(values= sim_values, dt=4.8, dt_units=\"ns\",t0=0, t0_units=\"ns\")"
   ]
  },
  {
   "cell_type": "code",
   "execution_count": null,
   "id": "19",
   "metadata": {},
   "outputs": [],
   "source": [
    "table = Table({\"waveform\":sim_wfs})\n"
   ]
  },
  {
   "cell_type": "code",
   "execution_count": null,
   "id": "20",
   "metadata": {},
   "outputs": [],
   "source": [
    "from pathlib import Path"
   ]
  },
  {
   "cell_type": "code",
   "execution_count": null,
   "id": "21",
   "metadata": {},
   "outputs": [],
   "source": [
    "file_path = Path(\"../sim_data/raw/sim_wfs.lh5\")\n",
    "file_path.parent.mkdir(parents=True, exist_ok=True)\n",
    "lh5.write(table,\n",
    "          name=\"raw\",\n",
    "          lh5_file=file_path\n",
    "         )"
   ]
  }
 ],
 "metadata": {},
 "nbformat": 4,
 "nbformat_minor": 5
}
